{
 "cells": [
  {
   "cell_type": "code",
   "execution_count": 4,
   "metadata": {},
   "outputs": [
    {
     "name": "stderr",
     "output_type": "stream",
     "text": [
      "/home/hice1/dlee906/.conda/envs/my_ml_env/lib/python3.9/site-packages/tqdm/auto.py:21: TqdmWarning: IProgress not found. Please update jupyter and ipywidgets. See https://ipywidgets.readthedocs.io/en/stable/user_install.html\n",
      "  from .autonotebook import tqdm as notebook_tqdm\n"
     ]
    }
   ],
   "source": [
    "import os\n",
    "import numpy as np\n",
    "import matplotlib.pyplot as plt\n",
    "from torch.utils.data import Dataset\n",
    "from datasets import load_dataset\n",
    "from sklearn.decomposition import PCA\n",
    "from sklearn.manifold import TSNE\n",
    "import umap\n",
    "\n"
   ]
  },
  {
   "cell_type": "code",
   "execution_count": 5,
   "metadata": {},
   "outputs": [
    {
     "ename": "NameError",
     "evalue": "name 'dataset' is not defined",
     "output_type": "error",
     "traceback": [
      "\u001b[0;31m---------------------------------------------------------------------------\u001b[0m",
      "\u001b[0;31mNameError\u001b[0m                                 Traceback (most recent call last)",
      "Cell \u001b[0;32mIn[5], line 1\u001b[0m\n\u001b[0;32m----> 1\u001b[0m dataset[\u001b[39m\"\u001b[39m\u001b[39mprimary_diagnosis\u001b[39m\u001b[39m\"\u001b[39m]\n",
      "\u001b[0;31mNameError\u001b[0m: name 'dataset' is not defined"
     ]
    }
   ],
   "source": [
    "dataset[\"primary_diagnosis\"]"
   ]
  },
  {
   "cell_type": "code",
   "execution_count": null,
   "metadata": {},
   "outputs": [
    {
     "name": "stderr",
     "output_type": "stream",
     "text": [
      "Downloading readme: 100%|██████████| 5.09k/5.09k [00:00<00:00, 26.6MB/s]\n",
      "Downloading data: 100%|██████████| 50.8M/50.8M [00:00<00:00, 118MB/s] \n",
      "Downloading data: 100%|██████████| 39.1M/39.1M [00:00<00:00, 174MB/s] \n",
      "Generating gatortron split: 11428 examples [00:00, 63469.11 examples/s]\n",
      "Generating biobert split: 11428 examples [00:00, 82725.69 examples/s]\n",
      "Downloading data: 100%|██████████| 1.86G/1.86G [00:39<00:00, 46.5MB/s]\n",
      "Generating uni split: 22643 examples [00:05, 4017.07 examples/s]"
     ]
    },
    {
     "name": "stdout",
     "output_type": "stream",
     "text": [
      "(1, 1, 1024)\n"
     ]
    },
    {
     "name": "stderr",
     "output_type": "stream",
     "text": [
      "\n"
     ]
    }
   ],
   "source": [
    "from datasets import load_dataset\n",
    "import os\n",
    "from torch.utils.data import Dataset\n",
    "import numpy as np\n",
    "\n",
    "class CustomDataset(Dataset):\n",
    "    def __init__(self, hf_dataset):\n",
    "        self.hf_dataset = hf_dataset\n",
    "\n",
    "    def __len__(self):\n",
    "        return len(self.hf_dataset)\n",
    "    \n",
    "    def __getitem__(self, idx):\n",
    "        hf_item = self.hf_dataset[idx]\n",
    "        embedding = np.frombuffer(hf_item[\"embedding\"], dtype=np.float32)\n",
    "        embedding_shape = hf_item[\"embedding_shape\"]\n",
    "        embedding = embedding.reshape(embedding_shape)\n",
    "        return embedding\n",
    "\n",
    "if __name__ == \"__main__\":\n",
    "    \n",
    "    clinical_dataset = load_dataset(\"Lab-Rasool/TCGA\", \"clinical\", split=\"gatortron\")\n",
    "    wsi_dataset = load_dataset(\"Lab-Rasool/TCGA\", \"wsi\", split=\"uni\")\n",
    "    \n",
    "    for index, item in enumerate(clinical_dataset):\n",
    "        print(np.frombuffer(item.get(\"embedding\"), dtype=np.float32).reshape(item.get(\"embedding_shape\")).shape)\n",
    "        break\n"
   ]
  },
  {
   "cell_type": "code",
   "execution_count": 7,
   "metadata": {},
   "outputs": [
    {
     "data": {
      "text/plain": [
       "['project_id',\n",
       " 'case_id',\n",
       " 'case_submitter_id',\n",
       " 'selected_normal_wgs',\n",
       " 'source_center',\n",
       " 'state',\n",
       " 'a260_a280_ratio',\n",
       " 'normal_tumor_genotype_snp_match',\n",
       " 'ribosomal_rna_28s_16s_ratio',\n",
       " 'rna_integrity_number',\n",
       " 'age_at_index',\n",
       " 'days_to_birth',\n",
       " 'days_to_death',\n",
       " 'ethnicity',\n",
       " 'gender',\n",
       " 'race',\n",
       " 'vital_status',\n",
       " 'year_of_birth',\n",
       " 'year_of_death',\n",
       " 'age_at_diagnosis',\n",
       " 'ajcc_clinical_m',\n",
       " 'ajcc_pathologic_n',\n",
       " 'ajcc_pathologic_stage',\n",
       " 'ajcc_pathologic_t',\n",
       " 'classification_of_tumor',\n",
       " 'days_to_diagnosis',\n",
       " 'icd_10_code',\n",
       " 'last_known_disease_status',\n",
       " 'morphology',\n",
       " 'primary_diagnosis',\n",
       " 'prior_malignancy',\n",
       " 'prior_treatment',\n",
       " 'progression_or_recurrence',\n",
       " 'site_of_resection_or_biopsy',\n",
       " 'synchronous_malignancy',\n",
       " 'tissue_or_organ_of_origin',\n",
       " 'tumor_grade',\n",
       " 'year_of_diagnosis',\n",
       " 'treatment_or_therapy',\n",
       " 'alcohol_history',\n",
       " 'is_ffpe',\n",
       " 'composition',\n",
       " 'days_to_collection',\n",
       " 'days_to_sample_procurement',\n",
       " 'initial_weight',\n",
       " 'pathology_report_uuid',\n",
       " 'portion_submitter_id',\n",
       " 'percent_lymphocyte_infiltration',\n",
       " 'percent_monocyte_infiltration',\n",
       " 'percent_necrosis',\n",
       " 'percent_neutrophil_infiltration',\n",
       " 'percent_normal_cells',\n",
       " 'percent_stromal_cells',\n",
       " 'percent_tumor_cells',\n",
       " 'percent_tumor_nuclei',\n",
       " 'text',\n",
       " 'embedding_shape',\n",
       " 'embedding',\n",
       " 'analyte_type',\n",
       " 'days_to_last_follow_up',\n",
       " 'weight',\n",
       " 'sample_id',\n",
       " 'sample_submitter_id',\n",
       " 'portion_id',\n",
       " 'slide_id',\n",
       " 'slide_submitter_id',\n",
       " 'section_location',\n",
       " 'concentration',\n",
       " 'spectrophotometer_method',\n",
       " 'oct_embedded',\n",
       " 'preservation_method',\n",
       " 'no_matched_normal_low_pass_wgs',\n",
       " 'no_matched_normal_targeted_sequencing',\n",
       " 'no_matched_normal_wgs',\n",
       " 'no_matched_normal_wxs',\n",
       " 'selected_normal_low_pass_wgs',\n",
       " 'selected_normal_targeted_sequencing',\n",
       " 'selected_normal_wxs',\n",
       " 'creation_datetime',\n",
       " 'portion_number',\n",
       " 'specimen_type',\n",
       " 'ajcc_pathologic_m',\n",
       " 'ajcc_staging_system_edition',\n",
       " 'intermediate_dimension',\n",
       " 'longest_dimension',\n",
       " 'shortest_dimension',\n",
       " 'cigarettes_per_day',\n",
       " 'pack_years_smoked',\n",
       " 'years_smoked',\n",
       " 'analyte_type_id',\n",
       " 'figo_stage',\n",
       " 'analyte_id',\n",
       " 'analyte_submitter_id',\n",
       " 'aliquot_id',\n",
       " 'aliquot_submitter_id',\n",
       " 'sample_type',\n",
       " 'sample_type_id',\n",
       " 'tissue_type',\n",
       " 'tumor_descriptor',\n",
       " 'ajcc_clinical_t',\n",
       " 'ann_arbor_b_symptoms',\n",
       " 'ann_arbor_clinical_stage',\n",
       " 'ann_arbor_extranodal_involvement',\n",
       " 'aliquot_quantity',\n",
       " 'aliquot_volume',\n",
       " 'experimental_protocol_type',\n",
       " 'ajcc_clinical_n',\n",
       " 'ajcc_clinical_stage',\n",
       " 'primary_gleason_grade',\n",
       " 'secondary_gleason_grade',\n",
       " 'igcccg_stage',\n",
       " 'analyte_volume',\n",
       " 'masaoka_stage']"
      ]
     },
     "execution_count": 7,
     "metadata": {},
     "output_type": "execute_result"
    }
   ],
   "source": [
    "dataset = load_dataset(\"Lab-Rasool/TCGA\", \"clinical\", split=\"gatortron\")\n",
    "\n",
    "dataset.column_names"
   ]
  },
  {
   "cell_type": "code",
   "execution_count": 14,
   "metadata": {},
   "outputs": [
    {
     "name": "stdout",
     "output_type": "stream",
     "text": [
      "(11428,)\n"
     ]
    }
   ],
   "source": [
    "embeddings = np.array(dataset['embedding'])  # (11208, embedding_dim)\n",
    "\n",
    "# Optional: check shape\n",
    "print(embeddings.shape)"
   ]
  },
  {
   "cell_type": "code",
   "execution_count": null,
   "metadata": {},
   "outputs": [],
   "source": [
    "dataset[\"primary_diagnosis\"]"
   ]
  },
  {
   "cell_type": "code",
   "execution_count": 9,
   "metadata": {},
   "outputs": [
    {
     "name": "stdout",
     "output_type": "stream",
     "text": [
      "Embeddings shape: (11428,)\n"
     ]
    },
    {
     "data": {
      "image/png": "[encoded data removed]",
      "text/plain": [
       "<Figure size 640x480 with 1 Axes>"
      ]
     },
     "metadata": {},
     "output_type": "display_data"
    },
    {
     "name": "stderr",
     "output_type": "stream",
     "text": [
      "/home/hice1/dlee906/.conda/envs/my_ml_env/lib/python3.9/site-packages/sklearn/utils/deprecation.py:151: FutureWarning: 'force_all_finite' was renamed to 'ensure_all_finite' in 1.6 and will be removed in 1.8.\n",
      "  warnings.warn(\n",
      "/home/hice1/dlee906/.conda/envs/my_ml_env/lib/python3.9/site-packages/umap/umap_.py:1952: UserWarning: n_jobs value 1 overridden to 1 by setting random_state. Use no seed for parallelism.\n",
      "  warn(\n"
     ]
    },
    {
     "ename": "AttributeError",
     "evalue": "'numpy.ndarray' object has no attribute 'fillna'",
     "output_type": "error",
     "traceback": [
      "\u001b[0;31m---------------------------------------------------------------------------\u001b[0m",
      "\u001b[0;31mAttributeError\u001b[0m                            Traceback (most recent call last)",
      "Cell \u001b[0;32mIn[9], line 39\u001b[0m\n\u001b[1;32m     36\u001b[0m follow_up \u001b[39m=\u001b[39m dataset[\u001b[39m'\u001b[39m\u001b[39mdays_to_last_follow_up\u001b[39m\u001b[39m'\u001b[39m]\n\u001b[1;32m     38\u001b[0m \u001b[39m# Use follow-up time for censored patients\u001b[39;00m\n\u001b[0;32m---> 39\u001b[0m effective_days \u001b[39m=\u001b[39m labels\u001b[39m.\u001b[39;49mfillna(follow_up)\n\u001b[1;32m     41\u001b[0m \u001b[39m# Classify based on whether effective days exceed 2 years\u001b[39;00m\n\u001b[1;32m     42\u001b[0m binary_labels \u001b[39m=\u001b[39m (effective_days \u001b[39m>\u001b[39m \u001b[39m730\u001b[39m)\u001b[39m.\u001b[39mastype(\u001b[39mint\u001b[39m)\n",
      "\u001b[0;31mAttributeError\u001b[0m: 'numpy.ndarray' object has no attribute 'fillna'"
     ]
    }
   ],
   "source": [
    "import numpy as np\n",
    "import matplotlib.pyplot as plt\n",
    "from sklearn.decomposition import PCA\n",
    "from sklearn.manifold import TSNE\n",
    "import umap\n",
    "from sklearn.preprocessing import LabelEncoder\n",
    "\n",
    "# Step 1: Extract embeddings\n",
    "embeddings = np.array(dataset['embedding'])  # Shape: (11208, embedding_dim)\n",
    "print('Embeddings shape:', embeddings.shape)\n",
    "\n",
    "if isinstance(embeddings[0], (bytes, np.bytes_)):\n",
    "    embeddings = np.array([np.frombuffer(x, dtype=np.float32) for x in embeddings])\n",
    "\n",
    "# Step 2: (Optional) PCA reduction\n",
    "pca = PCA(n_components=50)\n",
    "embeddings_pca = pca.fit_transform(embeddings)\n",
    "\n",
    "\n",
    "plt.plot(np.cumsum(pca.explained_variance_ratio_))\n",
    "plt.xlabel('Number of Components')\n",
    "plt.ylabel('Cumulative Explained Variance')\n",
    "plt.grid()\n",
    "plt.show()\n",
    "\n",
    "# Step 3: t-SNE\n",
    "tsne = TSNE(n_components=2, random_state=42, perplexity=30)\n",
    "embeddings_tsne = tsne.fit_transform(embeddings_pca)\n",
    "\n",
    "# UMAP\n",
    "reducer = umap.UMAP(random_state=42)\n",
    "embeddings_umap = reducer.fit_transform(embeddings_pca)\n",
    "\n",
    "# Labels\n",
    "labels = np.array(dataset['days_to_death'])\n",
    "follow_up = dataset['days_to_last_follow_up']\n",
    "\n",
    "# Use follow-up time for censored patients\n",
    "effective_days = labels.fillna(follow_up)\n",
    "\n",
    "# Classify based on whether effective days exceed 2 years\n",
    "binary_labels = (effective_days > 730).astype(int)\n",
    "\n",
    "# Encode text labels into integers\n",
    "le = LabelEncoder()\n",
    "labels_encoded = le.fit_transform(binary_labels)\n",
    "\n",
    "# Get original class names\n",
    "class_names = le.classes_\n",
    "\n",
    "# Step 4: Plot\n",
    "plt.figure(figsize=(14, 6))\n",
    "\n",
    "# t-SNE plot\n",
    "plt.subplot(1, 2, 1)\n",
    "scatter = plt.scatter(embeddings_tsne[:, 0], embeddings_tsne[:, 1], c=labels_encoded, cmap='tab10', s=5)\n",
    "plt.title('t-SNE Visualization')\n",
    "\n",
    "# Create a legend\n",
    "handles = []\n",
    "colors = plt.cm.tab10(np.linspace(0, 1, len(class_names)))\n",
    "for idx, class_name in enumerate(class_names):\n",
    "    handles.append(plt.Line2D([], [], marker='o', color=colors[idx], linestyle='', markersize=5, label=class_name))\n",
    "plt.legend(handles=handles, title='Ethnicity', bbox_to_anchor=(1.05, 1), loc='upper left')\n",
    "\n",
    "# UMAP plot\n",
    "plt.subplot(1, 2, 2)\n",
    "scatter = plt.scatter(embeddings_umap[:, 0], embeddings_umap[:, 1], c=labels_encoded, cmap='tab10', s=5)\n",
    "plt.title('UMAP Visualization')\n",
    "\n",
    "# Create a legend for UMAP too\n",
    "handles = []\n",
    "for idx, class_name in enumerate(class_names):\n",
    "    handles.append(plt.Line2D([], [], marker='o', color=colors[idx], linestyle='', markersize=5, label=class_name))\n",
    "plt.legend(handles=handles, title='Ethnicity', bbox_to_anchor=(1.05, 1), loc='upper left')\n",
    "\n",
    "plt.tight_layout()\n",
    "plt.show()\n"
   ]
  },
  {
   "cell_type": "code",
   "execution_count": 10,
   "metadata": {},
   "outputs": [],
   "source": [
    "import torch\n",
    "import torch.nn as nn\n",
    "import torch.nn.functional as F\n",
    "\n",
    "class MultiTaskCancerModel(nn.Module):\n",
    "    def __init__(self, input_dim, hidden_dim=128, use_survival_analysis=False):\n",
    "        super(MultiTaskCancerModel, self).__init__()\n",
    "        self.use_survival_analysis = use_survival_analysis\n",
    "        \n",
    "        # Shared encoder\n",
    "        self.shared = nn.Sequential(\n",
    "            nn.Linear(input_dim, hidden_dim),\n",
    "            nn.ReLU(),\n",
    "            nn.Dropout(0.2),\n",
    "            nn.Linear(hidden_dim, hidden_dim),\n",
    "            nn.ReLU()\n",
    "        )\n",
    "        \n",
    "        # Recurrence classification head (binary)\n",
    "        self.recurrence_classifier = nn.Sequential(\n",
    "            nn.Linear(hidden_dim, 64),\n",
    "            nn.ReLU(),\n",
    "            nn.Linear(64, 1)  # Output logits\n",
    "        )\n",
    "        \n",
    "        if use_survival_analysis:\n",
    "            # Cox-PH survival head (log-risk output)\n",
    "            self.survival_head = nn.Linear(hidden_dim, 1)\n",
    "        else:\n",
    "            # MSE regression head for survival days\n",
    "            self.survival_regressor = nn.Sequential(\n",
    "                nn.Linear(hidden_dim, 64),\n",
    "                nn.ReLU(),\n",
    "                nn.Linear(64, 1)\n",
    "            )\n",
    "\n",
    "    def forward(self, x):\n",
    "        shared_out = self.shared(x)\n",
    "        \n",
    "        recurrence_logits = self.recurrence_classifier(shared_out).squeeze(1)  # [B]\n",
    "        \n",
    "        if self.use_survival_analysis:\n",
    "            survival_risk = self.survival_head(shared_out).squeeze(1)  # [B]\n",
    "            return recurrence_logits, survival_risk\n",
    "        else:\n",
    "            survival_days = self.survival_regressor(shared_out).squeeze(1)  # [B]\n",
    "            return recurrence_logits, survival_days\n"
   ]
  },
  {
   "cell_type": "code",
   "execution_count": 11,
   "metadata": {},
   "outputs": [],
   "source": [
    "def cox_ph_loss(risk, durations, events):\n",
    "    \"\"\"Computes Cox partial likelihood loss.\"\"\"\n",
    "    order = torch.argsort(durations, descending=True)\n",
    "    risk = risk[order]\n",
    "    events = events[order]\n",
    "\n",
    "    log_cumsum = torch.logcumsumexp(risk, dim=0)\n",
    "    loss = -torch.sum((risk - log_cumsum) * events)\n",
    "    return loss\n"
   ]
  },
  {
   "cell_type": "code",
   "execution_count": 12,
   "metadata": {},
   "outputs": [
    {
     "ename": "NameError",
     "evalue": "name 'combined_feature_dim' is not defined",
     "output_type": "error",
     "traceback": [
      "\u001b[0;31m---------------------------------------------------------------------------\u001b[0m",
      "\u001b[0;31mNameError\u001b[0m                                 Traceback (most recent call last)",
      "Cell \u001b[0;32mIn[12], line 1\u001b[0m\n\u001b[0;32m----> 1\u001b[0m model \u001b[39m=\u001b[39m MultiTaskCancerModel(input_dim\u001b[39m=\u001b[39mcombined_feature_dim, use_survival_analysis\u001b[39m=\u001b[39m\u001b[39mTrue\u001b[39;00m)\n\u001b[1;32m      2\u001b[0m optimizer \u001b[39m=\u001b[39m torch\u001b[39m.\u001b[39moptim\u001b[39m.\u001b[39mAdam(model\u001b[39m.\u001b[39mparameters(), lr\u001b[39m=\u001b[39m\u001b[39m1e-3\u001b[39m)\n\u001b[1;32m      4\u001b[0m recurrence_logits, survival_output \u001b[39m=\u001b[39m model(x)\n",
      "\u001b[0;31mNameError\u001b[0m: name 'combined_feature_dim' is not defined"
     ]
    }
   ],
   "source": [
    "model = MultiTaskCancerModel(input_dim=combined_feature_dim, use_survival_analysis=True)\n",
    "optimizer = torch.optim.Adam(model.parameters(), lr=1e-3)\n",
    "\n",
    "recurrence_logits, survival_output = model(x)\n",
    "\n",
    "loss_recur = nn.BCEWithLogitsLoss()(recurrence_logits, recurrence_labels.float())\n",
    "loss_surv = cox_ph_loss(survival_output, durations, events)  # or MSE if regression\n",
    "total_loss = loss_recur + loss_surv\n",
    "\n",
    "total_loss.backward()\n",
    "optimizer.step()\n"
   ]
  },
  {
   "cell_type": "code",
   "execution_count": 51,
   "metadata": {},
   "outputs": [],
   "source": [
    "from datasets import load_dataset\n",
    "import torch\n",
    "from torch.utils.data import Dataset, DataLoader, random_split\n",
    "import numpy as np\n",
    "import torch.nn as nn\n",
    "import torch.optim as optim\n"
   ]
  },
  {
   "cell_type": "code",
   "execution_count": 52,
   "metadata": {},
   "outputs": [],
   "source": [
    "class ClinicalSurvivalDataset(Dataset):\n",
    "    def __init__(self, hf_dataset, survival_days=730):\n",
    "        self.samples = []\n",
    "        for item in hf_dataset:\n",
    "            if item[\"days_to_death\"] is not None:\n",
    "                embedding = np.frombuffer(item[\"embedding\"], dtype=np.float32)\n",
    "                embedding = embedding.reshape(item[\"embedding_shape\"])\n",
    "                label = 1 if int(item[\"days_to_death\"]) >= survival_days else 0\n",
    "                self.samples.append((embedding, label))\n",
    "\n",
    "    def __len__(self):\n",
    "        return len(self.samples)\n",
    "    \n",
    "    def __getitem__(self, idx):\n",
    "        embedding, label = self.samples[idx]\n",
    "        return torch.tensor(embedding, dtype=torch.float32), torch.tensor(label, dtype=torch.float32)"
   ]
  },
  {
   "cell_type": "code",
   "execution_count": 53,
   "metadata": {},
   "outputs": [],
   "source": [
    "class MLP(nn.Module):\n",
    "    def __init__(self, input_dim):\n",
    "        super(MLP, self).__init__()\n",
    "        self.model = nn.Sequential(\n",
    "            nn.Linear(input_dim, 256),\n",
    "            nn.ReLU(),\n",
    "            nn.Dropout(0.2),\n",
    "            nn.Linear(256, 64),\n",
    "            nn.ReLU(),\n",
    "            nn.Linear(64, 1),\n",
    "            nn.Sigmoid()\n",
    "        )\n",
    "\n",
    "    def forward(self, x):\n",
    "        return self.model(x)"
   ]
  },
  {
   "cell_type": "code",
   "execution_count": 54,
   "metadata": {},
   "outputs": [],
   "source": [
    "clinical_dataset = load_dataset(\"Lab-Rasool/TCGA\", \"clinical\", split=\"gatortron\")\n",
    "dataset = ClinicalSurvivalDataset(clinical_dataset)\n",
    "\n",
    "# Split into train and val\n",
    "train_size = int(0.8 * len(dataset))\n",
    "val_size = len(dataset) - train_size\n",
    "train_dataset, val_dataset = random_split(dataset, [train_size, val_size])\n",
    "\n",
    "train_loader = DataLoader(train_dataset, batch_size=32, shuffle=True)\n",
    "val_loader = DataLoader(val_dataset, batch_size=32)"
   ]
  },
  {
   "cell_type": "code",
   "execution_count": 55,
   "metadata": {},
   "outputs": [],
   "source": [
    "sample_input, _ = next(iter(train_loader))\n",
    "input_dim =  sample_input.view(sample_input.size(0), -1).shape[1] \n",
    "\n",
    "model = MLP(input_dim)\n",
    "criterion = nn.BCELoss()\n",
    "optimizer = optim.Adam(model.parameters(), lr=1e-3)"
   ]
  },
  {
   "cell_type": "code",
   "execution_count": 58,
   "metadata": {},
   "outputs": [],
   "source": [
    "def train(model, loader):\n",
    "    model.train()\n",
    "    total_loss = 0\n",
    "    for x, y in loader:\n",
    "        optimizer.zero_grad()\n",
    "        # print(x.shape)\n",
    "        # print(y.shape)\n",
    "        output = model(x).squeeze()\n",
    "        loss = criterion(output, y)\n",
    "        loss.backward()\n",
    "        optimizer.step()\n",
    "        total_loss += loss.item()\n",
    "    return total_loss / len(loader)\n",
    "\n",
    "def evaluate(model, loader):\n",
    "    model.eval()\n",
    "    total_correct = 0\n",
    "    total = 0\n",
    "    with torch.no_grad():\n",
    "        for x, y in loader:\n",
    "            preds = model(x).squeeze() > 0.5\n",
    "            total_correct += (preds == y.bool()).sum().item()\n",
    "            total += y.size(0)\n",
    "    return total_correct / total"
   ]
  },
  {
   "cell_type": "code",
   "execution_count": 60,
   "metadata": {},
   "outputs": [
    {
     "name": "stdout",
     "output_type": "stream",
     "text": [
      "Epoch 1 - Loss: 0.6400, Val Acc: 0.6408\n",
      "Epoch 2 - Loss: 0.6390, Val Acc: 0.6172\n",
      "Epoch 3 - Loss: 0.6339, Val Acc: 0.6117\n",
      "Epoch 4 - Loss: 0.6399, Val Acc: 0.6380\n",
      "Epoch 5 - Loss: 0.6331, Val Acc: 0.6657\n",
      "Epoch 6 - Loss: 0.6350, Val Acc: 0.6519\n",
      "Epoch 7 - Loss: 0.6401, Val Acc: 0.6616\n",
      "Epoch 8 - Loss: 0.6366, Val Acc: 0.6657\n",
      "Epoch 9 - Loss: 0.6397, Val Acc: 0.6796\n",
      "Epoch 10 - Loss: 0.6329, Val Acc: 0.6602\n",
      "Epoch 11 - Loss: 0.6338, Val Acc: 0.6533\n",
      "Epoch 12 - Loss: 0.6289, Val Acc: 0.6782\n",
      "Epoch 13 - Loss: 0.6340, Val Acc: 0.6436\n",
      "Epoch 14 - Loss: 0.6394, Val Acc: 0.6103\n",
      "Epoch 15 - Loss: 0.6278, Val Acc: 0.6422\n",
      "Epoch 16 - Loss: 0.6394, Val Acc: 0.6630\n",
      "Epoch 17 - Loss: 0.6274, Val Acc: 0.6283\n",
      "Epoch 18 - Loss: 0.6280, Val Acc: 0.6144\n",
      "Epoch 19 - Loss: 0.6320, Val Acc: 0.5992\n",
      "Epoch 20 - Loss: 0.6252, Val Acc: 0.7004\n",
      "Epoch 21 - Loss: 0.6292, Val Acc: 0.6907\n",
      "Epoch 22 - Loss: 0.6213, Val Acc: 0.6519\n",
      "Epoch 23 - Loss: 0.6342, Val Acc: 0.6671\n",
      "Epoch 24 - Loss: 0.6158, Val Acc: 0.6505\n",
      "Epoch 25 - Loss: 0.6186, Val Acc: 0.7060\n",
      "Epoch 26 - Loss: 0.6177, Val Acc: 0.7087\n",
      "Epoch 27 - Loss: 0.6156, Val Acc: 0.6921\n",
      "Epoch 28 - Loss: 0.6296, Val Acc: 0.6755\n",
      "Epoch 29 - Loss: 0.6323, Val Acc: 0.6117\n",
      "Epoch 30 - Loss: 0.6286, Val Acc: 0.6755\n",
      "Epoch 31 - Loss: 0.6237, Val Acc: 0.7074\n",
      "Epoch 32 - Loss: 0.6074, Val Acc: 0.7004\n",
      "Epoch 33 - Loss: 0.6054, Val Acc: 0.6852\n",
      "Epoch 34 - Loss: 0.6074, Val Acc: 0.6824\n",
      "Epoch 35 - Loss: 0.6154, Val Acc: 0.6755\n",
      "Epoch 36 - Loss: 0.6263, Val Acc: 0.6990\n",
      "Epoch 37 - Loss: 0.6283, Val Acc: 0.6990\n",
      "Epoch 38 - Loss: 0.6076, Val Acc: 0.6976\n",
      "Epoch 39 - Loss: 0.6076, Val Acc: 0.6755\n",
      "Epoch 40 - Loss: 0.6281, Val Acc: 0.7074\n",
      "Epoch 41 - Loss: 0.6260, Val Acc: 0.7101\n",
      "Epoch 42 - Loss: 0.6383, Val Acc: 0.6117\n",
      "Epoch 43 - Loss: 0.6282, Val Acc: 0.6117\n",
      "Epoch 44 - Loss: 0.6264, Val Acc: 0.6117\n",
      "Epoch 45 - Loss: 0.6176, Val Acc: 0.6255\n",
      "Epoch 46 - Loss: 0.6169, Val Acc: 0.6976\n",
      "Epoch 47 - Loss: 0.6097, Val Acc: 0.7157\n",
      "Epoch 48 - Loss: 0.6187, Val Acc: 0.6838\n",
      "Epoch 49 - Loss: 0.6153, Val Acc: 0.5659\n",
      "Epoch 50 - Loss: 0.6192, Val Acc: 0.7171\n"
     ]
    }
   ],
   "source": [
    "for epoch in range(50):\n",
    "    train_loss = train(model, train_loader)\n",
    "    val_acc = evaluate(model, val_loader)\n",
    "    print(f\"Epoch {epoch+1} - Loss: {train_loss:.4f}, Val Acc: {val_acc:.4f}\")"
   ]
  }
 ],
 "metadata": {
  "kernelspec": {
   "display_name": "compbio_final",
   "language": "python",
   "name": "python3"
  },
  "language_info": {
   "codemirror_mode": {
    "name": "ipython",
    "version": 3
   },
   "file_extension": ".py",
   "mimetype": "text/x-python",
   "name": "python",
   "nbconvert_exporter": "python",
   "pygments_lexer": "ipython3",
   "version": "3.9.22"
  },
  "orig_nbformat": 4
 },
 "nbformat": 4,
 "nbformat_minor": 2
}
